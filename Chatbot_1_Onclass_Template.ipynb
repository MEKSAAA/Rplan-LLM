{
  "nbformat": 4,
  "nbformat_minor": 0,
  "metadata": {
    "colab": {
      "provenance": [],
      "include_colab_link": true
    },
    "kernelspec": {
      "name": "python3",
      "display_name": "Python 3"
    }
  },
  "cells": [
    {
      "cell_type": "markdown",
      "metadata": {
        "id": "view-in-github",
        "colab_type": "text"
      },
      "source": [
        "<a href=\"https://colab.research.google.com/github/MEKSAAA/Rplan-LLM/blob/main/Chatbot_1_Onclass_Template.ipynb\" target=\"_parent\"><img src=\"https://colab.research.google.com/assets/colab-badge.svg\" alt=\"Open In Colab\"/></a>"
      ]
    },
    {
      "cell_type": "code",
      "metadata": {
        "id": "K2WaPnX0jJbt"
      },
      "source": [
        "bot_template = \"BOT : {0}\"\n",
        "user_template = \"USER : {0}\"\n",
        "\n",
        "# Define a function that responds to a user's message: respond\n",
        "def respond(message):\n",
        "    # Concatenate the user's message to the end of a standard bot respone\n",
        "    bot_message = \"I can hear you! you said: \" + message\n",
        "    # Return the result\n",
        "    return bot_message"
      ],
      "execution_count": null,
      "outputs": []
    },
    {
      "cell_type": "code",
      "metadata": {
        "id": "kVyYaiz_mbeI",
        "outputId": "3385d008-b6c5-4582-edfa-748ccb6c9ad7",
        "colab": {
          "base_uri": "https://localhost:8080/"
        }
      },
      "source": [
        "import time\n",
        "# Define a function that sends a message to the bot: send_message\n",
        "def send_message(message):\n",
        "    # Print user_template including the user_message\n",
        "    print(user_template.format(message))\n",
        "    # Get the bot's response to the message\n",
        "    response = respond(message)\n",
        "    # Print the bot template including the bot's response.\n",
        "    time.sleep(0.5)\n",
        "    print(bot_template.format(response))\n",
        "\n",
        "# Send a message to the bot\n",
        "send_message(\"hello!\")"
      ],
      "execution_count": null,
      "outputs": [
        {
          "output_type": "stream",
          "name": "stdout",
          "text": [
            "USER : hello!\n",
            "BOT : I can hear you! you said: hello!\n"
          ]
        }
      ]
    },
    {
      "cell_type": "code",
      "metadata": {
        "id": "G6pQJuCtmlix"
      },
      "source": [
        "# Define variables\n",
        "name = \"Greg\"\n",
        "weather = \"cloudy\"\n",
        "\n",
        "# Define a dictionary with the predefined responses\n",
        "responses = {\n",
        "  \"what's your name?\": \"my name is {0}\".format(name),\n",
        "  \"what's today's weather?\": \"the weather is {0}\".format(weather),\n",
        "  \"default\": \"default message\"\n",
        "}\n",
        "\n",
        "# Return the matching response if there is one, default otherwise\n",
        "def respond(message):\n",
        "    # Check if the message is in the responses\n",
        "    if message in responses:\n",
        "        # Return the matching message\n",
        "        bot_message = responses[message]\n",
        "    else:\n",
        "        # Return the \"default\" message\n",
        "        bot_message = responses[\"default\"]\n",
        "    return bot_message"
      ],
      "execution_count": null,
      "outputs": []
    },
    {
      "cell_type": "code",
      "metadata": {
        "id": "S4awrsR-mhGt"
      },
      "source": [
        "# Import the random module\n",
        "import random\n",
        "\n",
        "name = \"Greg\"\n",
        "weather = \"cloudy\"\n",
        "\n",
        "# Define a dictionary containing a list of responses for each message\n",
        "responses = {\n",
        "  \"what's your name?\": [\n",
        "      \"my name is {0}\".format(name),\n",
        "      \"they call me {0}\".format(name),\n",
        "      \"I go by {0}\".format(name)\n",
        "   ],\n",
        "  \"what's today's weather?\": [\n",
        "      \"the weather is {0}\".format(weather),\n",
        "      \"it's {0} today\".format(weather)\n",
        "    ],\n",
        "  \"default\": [\"default message\"]\n",
        "}\n",
        "\n",
        "# Use random.choice() to choose a matching response\n",
        "def respond(message):\n",
        "    # Check if the message is in the responses\n",
        "    if message in responses:\n",
        "        # Return a random matching response\n",
        "        bot_message = random.choice(responses[message])\n",
        "    else:\n",
        "        # Return a random \"default\" response\n",
        "        bot_message = random.choice(responses[\"default\"])\n",
        "    return bot_message"
      ],
      "execution_count": null,
      "outputs": []
    },
    {
      "cell_type": "code",
      "metadata": {
        "id": "gGHZCz9Cmozx",
        "outputId": "ed5b0e62-fab6-4fd8-80d1-3ebeb5152de1",
        "colab": {
          "base_uri": "https://localhost:8080/"
        }
      },
      "source": [
        "import random\n",
        "\n",
        "responses = {'statement': ['tell me more!',\n",
        "                           'why do you think that?',\n",
        "                           'how long have you felt this way?',\n",
        "                           'I find that extremely interesting',\n",
        "                           'can you back that up?', 'oh wow!', ':)'],\n",
        "             'question': [\"I don't know :(\",\n",
        "                          'you tell me!']\n",
        "            }\n",
        "\n",
        "def respond(message):\n",
        "    # Check for a question mark\n",
        "    if message.endswith('?'):\n",
        "        # Return a random question\n",
        "        return random.choice(responses[\"question\"])\n",
        "    # Return a random statement\n",
        "    return random.choice(responses[\"statement\"])\n",
        "\n",
        "\n",
        "# Send messages ending in a question mark\n",
        "send_message(\"what's today's weather?\")\n",
        "send_message(\"what's today's weather?\")\n",
        "\n",
        "# Send messages which don't end with a question mark\n",
        "send_message(\"I love building chatbots\")\n",
        "send_message(\"I love building chatbots\")"
      ],
      "execution_count": null,
      "outputs": [
        {
          "output_type": "stream",
          "name": "stdout",
          "text": [
            "USER : what's today's weather?\n",
            "BOT : you tell me!\n",
            "USER : what's today's weather?\n",
            "BOT : I don't know :(\n",
            "USER : I love building chatbots\n",
            "BOT : I find that extremely interesting\n",
            "USER : I love building chatbots\n",
            "BOT : why do you think that?\n"
          ]
        }
      ]
    },
    {
      "cell_type": "code",
      "metadata": {
        "id": "PQUznJOYmrJu",
        "outputId": "51854f25-c543-4709-cf69-400121684ece",
        "colab": {
          "base_uri": "https://localhost:8080/"
        }
      },
      "source": [
        "import re\n",
        "import random\n",
        "rules = {'I want (.*)': ['What would it mean if you got {0}',\n",
        "                         'Why do you want {0}',\n",
        "                         \"What's stopping you from getting {0}\"],\n",
        "         'do you remember (.*)': ['Did you think I would forget {0}',\n",
        "                                  \"Why haven't you been able to forget {0}\",\n",
        "                                  'What about {0}',\n",
        "                                  'Yes .. and?'],\n",
        "         'do you think (.*)': ['if {0}? Absolutely.',\n",
        "                               'No chance'],\n",
        "         'if (.*)': [\"Do you really think it's likely that {0}\",\n",
        "                     'Do you wish that {0}',\n",
        "                     'What do you think about {0}',\n",
        "                     'Really--if {0}']\n",
        "        }\n",
        "\n",
        "# Define match_rule()\n",
        "def match_rule(rules, message):\n",
        "    response, phrase = \"default\", None\n",
        "\n",
        "    # Iterate over the rules dictionary\n",
        "    for rule in rules:\n",
        "        # Create a match object\n",
        "        match = re.search(rule,message)\n",
        "        if match is not None:\n",
        "            # Choose a random response\n",
        "            response = random.choice(rules[rule])\n",
        "            if '{0}' in response:\n",
        "                phrase = match.group(1)\n",
        "    # Return the response and phrase\n",
        "    return response, phrase\n",
        "\n",
        "# Test match_rule\n",
        "print(match_rule(rules, \"do you remember your last birthday\"))"
      ],
      "execution_count": null,
      "outputs": [
        {
          "output_type": "stream",
          "name": "stdout",
          "text": [
            "(\"Why haven't you been able to forget {0}\", 'your last birthday')\n"
          ]
        }
      ]
    },
    {
      "cell_type": "code",
      "metadata": {
        "id": "VmrYPbXkmtLv",
        "outputId": "b3745c94-2778-4bfd-f4f3-8d72476d1760",
        "colab": {
          "base_uri": "https://localhost:8080/"
        }
      },
      "source": [
        "# Define replace_pronouns()\n",
        "def replace_pronouns(message):\n",
        "\n",
        "    message = message.lower()\n",
        "    if 'me' in message:\n",
        "        # Replace 'me' with 'you'\n",
        "        return re.sub('me','you',message)\n",
        "    if 'my' in message:\n",
        "        # Replace 'my' with 'your'\n",
        "        return re.sub('my','your',message)\n",
        "    if 'your' in message:\n",
        "        # Replace 'your' with 'my'\n",
        "        return re.sub('your','my',message)\n",
        "    if 'you' in message:\n",
        "        # Replace 'you' with 'me'\n",
        "        return re.sub('you','I',message)\n",
        "\n",
        "    return message\n",
        "\n",
        "print(replace_pronouns(\"my last birthday\"))\n",
        "print(replace_pronouns(\"when you went to Florida\"))\n",
        "print(replace_pronouns(\"I had my own castle\"))"
      ],
      "execution_count": null,
      "outputs": [
        {
          "output_type": "stream",
          "name": "stdout",
          "text": [
            "your last birthday\n",
            "when I went to florida\n",
            "i had your own castle\n"
          ]
        }
      ]
    },
    {
      "cell_type": "code",
      "metadata": {
        "id": "MwOThn_YmvAu",
        "outputId": "b4b71f3b-7512-48de-c34e-b07eca28d0fa",
        "colab": {
          "base_uri": "https://localhost:8080/"
        }
      },
      "source": [
        "# Define respond()\n",
        "def respond(message):\n",
        "    # Call match_rule\n",
        "    response, phrase = match_rule(rules,message)\n",
        "    if '{0}' in response:\n",
        "        # Replace the pronouns in the phrase\n",
        "        phrase = replace_pronouns(phrase)\n",
        "        # Include the phrase in the response\n",
        "        response = response.format(phrase)\n",
        "    return response\n",
        "\n",
        "# Send the messages\n",
        "send_message(\"do you remember your last birthday\")\n",
        "send_message(\"do you think humans should be worried about AI\")\n",
        "send_message(\"I want a robot friend\")\n",
        "send_message(\"what if you could be anything you wanted\")"
      ],
      "execution_count": null,
      "outputs": [
        {
          "output_type": "stream",
          "name": "stdout",
          "text": [
            "USER : do you remember your last birthday\n",
            "BOT : Yes .. and?\n",
            "USER : do you think humans should be worried about AI\n",
            "BOT : if humans should be worried about ai? Absolutely.\n",
            "USER : I want a robot friend\n",
            "BOT : What would it mean if you got a robot friend\n",
            "USER : what if you could be anything you wanted\n",
            "BOT : Do you wish that I could be anything I wanted\n"
          ]
        }
      ]
    }
  ]
}